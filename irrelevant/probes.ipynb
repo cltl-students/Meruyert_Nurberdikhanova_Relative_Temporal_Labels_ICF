{
 "cells": [
  {
   "cell_type": "code",
   "execution_count": 1,
   "metadata": {},
   "outputs": [],
   "source": [
    "import pandas as pd\n",
    "import csv\n"
   ]
  },
  {
   "cell_type": "code",
   "execution_count": 2,
   "metadata": {},
   "outputs": [
    {
     "name": "stdout",
     "output_type": "stream",
     "text": [
      "    sentence       char         token                 label   relation\n",
      "0       23-1    503-507          Veel               enr1[1]        NaN\n",
      "1       23-2    508-512          last               enr1[1]        NaN\n",
      "2       23-3    513-516           van                   NaN        NaN\n",
      "3       23-4    517-529  vermoeidheid           .B1300: ENR  23-1[1_0]\n",
      "4       23-5    530-531             .                   NaN        NaN\n",
      "..       ...        ...           ...                   ...        ...\n",
      "155    37-13  1479-1491  kaakinfectie  other\\_background[2]        NaN\n",
      "156    37-14  1492-1500      waarvoor  other\\_background[2]        NaN\n",
      "157    37-15  1501-1510     langdurig  other\\_background[2]        NaN\n",
      "158    37-16  1511-1522   antibiotica  other\\_background[2]        NaN\n",
      "159    37-17  1523-1524             .  other\\_background[2]        NaN\n",
      "\n",
      "[160 rows x 5 columns]\n"
     ]
    }
   ],
   "source": [
    "filepath = 'examples.txt'\n",
    "df = pd.read_csv(filepath,sep='\\t',comment='#',names=['sentence','char','token','label','relation'])\n",
    "print(df)"
   ]
  },
  {
   "cell_type": "code",
   "execution_count": 3,
   "metadata": {},
   "outputs": [],
   "source": [
    "import spacy \n",
    "nlp=spacy.load('nl_core_news_sm')"
   ]
  },
  {
   "cell_type": "code",
   "execution_count": 4,
   "metadata": {},
   "outputs": [
    {
     "name": "stdout",
     "output_type": "stream",
     "text": [
      "    sentence       char         token                 label   relation\n",
      "0         23    503-507          Veel               enr1[1]        NaN\n",
      "1         23    508-512          last               enr1[1]        NaN\n",
      "2         23    513-516           van                   NaN        NaN\n",
      "3         23    517-529  vermoeidheid           .B1300: ENR  23-1[1_0]\n",
      "4         23    530-531             .                   NaN        NaN\n",
      "..       ...        ...           ...                   ...        ...\n",
      "155       37  1479-1491  kaakinfectie  other\\_background[2]        NaN\n",
      "156       37  1492-1500      waarvoor  other\\_background[2]        NaN\n",
      "157       37  1501-1510     langdurig  other\\_background[2]        NaN\n",
      "158       37  1511-1522   antibiotica  other\\_background[2]        NaN\n",
      "159       37  1523-1524             .  other\\_background[2]        NaN\n",
      "\n",
      "[160 rows x 5 columns]\n"
     ]
    }
   ],
   "source": [
    "sents = []\n",
    "for sent in df['sentence']:\n",
    "    num = sent.split('-')[0]\n",
    "    sents.append(num)\n",
    "df['sentence'] = sents\n",
    "print(df)"
   ]
  },
  {
   "cell_type": "code",
   "execution_count": 5,
   "metadata": {},
   "outputs": [
    {
     "name": "stdout",
     "output_type": "stream",
     "text": [
      "Veel last van vermoeidheid . Nu sinds 10 dagen opnieuw progressieve dyspnoe d'effort . TPV afbouwen bij verbeterde intake ? Op 7 jarige leeftijd heeft patiënt poliomyelitis gehad , heeft 6 weken in het ziekenhuis gelegen . Kon toendertijd niet op staan van het bed . Over de acute fase is helaas verder weinig informatie beschikbaar . Patiënt kon zelf niet veel herinneren . Na 6 weken ziekenhuis opname is hij lopend het ziekenhuis uit gegaan , had altijd minder kracht in de linker arm . Heeft nooit hulpmiddelen gehad ( schoenen en/of beenbeugels ) . Heeft wel jaren therapie voor de linkerarm gehad . Tot ongeveer 2010 heeft hij stabiel gefunctioneerd . Sinds 5 jaar voornamelijk vermoeidheidsklachten , hiervoor is bij hem divers onderzoeken o.a. een fietstest , hartonderzoek en bloedonderzoek verricht . Er werd geen verklaring voor de vermoeidheid gevonden . In die tijd had hij echter wel last van recidiverend UWI en kaakinfectie waarvoor langdurig antibiotica .\n"
     ]
    }
   ],
   "source": [
    "sentence = df['token'].to_list()\n",
    "sentence = ' '.join(sentence)\n",
    "print(sentence)"
   ]
  },
  {
   "cell_type": "code",
   "execution_count": 6,
   "metadata": {},
   "outputs": [],
   "source": [
    "upos_list = []\n",
    "xpos_list = []\n",
    "doc = nlp(sentence)\n",
    "for token in doc:\n",
    "    upos = token.pos_\n",
    "    xpos = token.tag_\n",
    "    upos_list.append(upos)\n",
    "    xpos_list.append(xpos)"
   ]
  },
  {
   "cell_type": "code",
   "execution_count": 7,
   "metadata": {},
   "outputs": [],
   "source": [
    "df['UPOS'] = upos_list\n",
    "df['XPOS'] = xpos_list"
   ]
  },
  {
   "cell_type": "code",
   "execution_count": 8,
   "metadata": {},
   "outputs": [
    {
     "name": "stdout",
     "output_type": "stream",
     "text": [
      "    sentence       char         token                 label   relation   UPOS  \\\n",
      "0         23    503-507          Veel               enr1[1]        NaN    DET   \n",
      "1         23    508-512          last               enr1[1]        NaN   NOUN   \n",
      "2         23    513-516           van                   NaN        NaN    ADP   \n",
      "3         23    517-529  vermoeidheid           .B1300: ENR  23-1[1_0]   NOUN   \n",
      "4         23    530-531             .                   NaN        NaN  PUNCT   \n",
      "..       ...        ...           ...                   ...        ...    ...   \n",
      "155       37  1479-1491  kaakinfectie  other\\_background[2]        NaN   NOUN   \n",
      "156       37  1492-1500      waarvoor  other\\_background[2]        NaN    ADV   \n",
      "157       37  1501-1510     langdurig  other\\_background[2]        NaN    ADJ   \n",
      "158       37  1511-1522   antibiotica  other\\_background[2]        NaN   NOUN   \n",
      "159       37  1523-1524             .  other\\_background[2]        NaN  PUNCT   \n",
      "\n",
      "                                            XPOS  \n",
      "0    VNW|onbep|grad|stan|prenom|zonder|agr|basis  \n",
      "1                     N|soort|ev|basis|zijd|stan  \n",
      "2                                        VZ|init  \n",
      "3                     N|soort|ev|basis|zijd|stan  \n",
      "4                                            LET  \n",
      "..                                           ...  \n",
      "155                   N|soort|ev|basis|zijd|stan  \n",
      "156                                           BW  \n",
      "157                        ADJ|vrij|basis|zonder  \n",
      "158                   N|soort|ev|basis|zijd|stan  \n",
      "159                                          LET  \n",
      "\n",
      "[160 rows x 7 columns]\n"
     ]
    }
   ],
   "source": [
    "print(df)"
   ]
  },
  {
   "cell_type": "code",
   "execution_count": null,
   "metadata": {},
   "outputs": [],
   "source": []
  }
 ],
 "metadata": {
  "kernelspec": {
   "display_name": "Python 3",
   "language": "python",
   "name": "python3"
  },
  "language_info": {
   "codemirror_mode": {
    "name": "ipython",
    "version": 3
   },
   "file_extension": ".py",
   "mimetype": "text/x-python",
   "name": "python",
   "nbconvert_exporter": "python",
   "pygments_lexer": "ipython3",
   "version": "3.10.2"
  },
  "orig_nbformat": 4
 },
 "nbformat": 4,
 "nbformat_minor": 2
}
